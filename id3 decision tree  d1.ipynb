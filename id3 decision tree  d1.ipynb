{
 "cells": [
  {
   "cell_type": "code",
   "execution_count": 1,
   "id": "2fde6b93",
   "metadata": {},
   "outputs": [
    {
     "name": "stdout",
     "output_type": "stream",
     "text": [
      "Requirement already satisfied: decision-tree-id3 in ./anaconda3/lib/python3.11/site-packages (0.1.2)\n",
      "Requirement already satisfied: nose>=1.1.2 in ./anaconda3/lib/python3.11/site-packages (from decision-tree-id3) (1.3.7)\n",
      "Requirement already satisfied: scikit-learn>=0.17 in ./anaconda3/lib/python3.11/site-packages (from decision-tree-id3) (1.3.0)\n",
      "Requirement already satisfied: numpy>=1.6.1 in ./anaconda3/lib/python3.11/site-packages (from decision-tree-id3) (1.24.3)\n",
      "Requirement already satisfied: scipy>=1.5.0 in ./anaconda3/lib/python3.11/site-packages (from scikit-learn>=0.17->decision-tree-id3) (1.11.1)\n",
      "Requirement already satisfied: joblib>=1.1.1 in ./anaconda3/lib/python3.11/site-packages (from scikit-learn>=0.17->decision-tree-id3) (1.2.0)\n",
      "Requirement already satisfied: threadpoolctl>=2.0.0 in ./anaconda3/lib/python3.11/site-packages (from scikit-learn>=0.17->decision-tree-id3) (2.2.0)\n"
     ]
    }
   ],
   "source": [
    "!pip install decision-tree-id3"
   ]
  },
  {
   "cell_type": "code",
   "execution_count": 2,
   "id": "b407dbda",
   "metadata": {},
   "outputs": [],
   "source": [
    "import matplotlib.pyplot as plt"
   ]
  },
  {
   "cell_type": "code",
   "execution_count": 3,
   "id": "2de7429c",
   "metadata": {},
   "outputs": [],
   "source": [
    "import pandas as pd"
   ]
  },
  {
   "cell_type": "code",
   "execution_count": 4,
   "id": "78d52842",
   "metadata": {},
   "outputs": [],
   "source": [
    "import six"
   ]
  },
  {
   "cell_type": "code",
   "execution_count": 5,
   "id": "1f503de1",
   "metadata": {},
   "outputs": [],
   "source": [
    "import sys"
   ]
  },
  {
   "cell_type": "code",
   "execution_count": 6,
   "id": "3a3cacc3",
   "metadata": {},
   "outputs": [],
   "source": [
    "sys.modules['sklearn.externals.six']=six"
   ]
  },
  {
   "cell_type": "code",
   "execution_count": 7,
   "id": "ff681d0f",
   "metadata": {},
   "outputs": [],
   "source": [
    "from id3 import Id3Estimator"
   ]
  },
  {
   "cell_type": "code",
   "execution_count": 8,
   "id": "e343c523",
   "metadata": {},
   "outputs": [],
   "source": [
    "data=pd.read_csv('id3exam.csv')"
   ]
  },
  {
   "cell_type": "code",
   "execution_count": 9,
   "id": "3834ad09",
   "metadata": {},
   "outputs": [
    {
     "data": {
      "text/html": [
       "<div>\n",
       "<style scoped>\n",
       "    .dataframe tbody tr th:only-of-type {\n",
       "        vertical-align: middle;\n",
       "    }\n",
       "\n",
       "    .dataframe tbody tr th {\n",
       "        vertical-align: top;\n",
       "    }\n",
       "\n",
       "    .dataframe thead th {\n",
       "        text-align: right;\n",
       "    }\n",
       "</style>\n",
       "<table border=\"1\" class=\"dataframe\">\n",
       "  <thead>\n",
       "    <tr style=\"text-align: right;\">\n",
       "      <th></th>\n",
       "      <th>Restaurant</th>\n",
       "      <th>Meal</th>\n",
       "      <th>Day</th>\n",
       "      <th>Cost</th>\n",
       "      <th>Vegan</th>\n",
       "      <th>AllergicReaction?</th>\n",
       "    </tr>\n",
       "  </thead>\n",
       "  <tbody>\n",
       "    <tr>\n",
       "      <th>0</th>\n",
       "      <td>Kim's</td>\n",
       "      <td>Breakfast</td>\n",
       "      <td>Saturday</td>\n",
       "      <td>Expensive</td>\n",
       "      <td>Yes</td>\n",
       "      <td>No</td>\n",
       "    </tr>\n",
       "    <tr>\n",
       "      <th>1</th>\n",
       "      <td>Kim's</td>\n",
       "      <td>Lunch</td>\n",
       "      <td>Sunday</td>\n",
       "      <td>Cheap</td>\n",
       "      <td>No</td>\n",
       "      <td>No</td>\n",
       "    </tr>\n",
       "    <tr>\n",
       "      <th>2</th>\n",
       "      <td>Sam's</td>\n",
       "      <td>Breakfast</td>\n",
       "      <td>Saturday</td>\n",
       "      <td>Expensive</td>\n",
       "      <td>No</td>\n",
       "      <td>Yes</td>\n",
       "    </tr>\n",
       "    <tr>\n",
       "      <th>3</th>\n",
       "      <td>Kim's</td>\n",
       "      <td>Breakfast</td>\n",
       "      <td>Friday</td>\n",
       "      <td>Cheap</td>\n",
       "      <td>Yes</td>\n",
       "      <td>Yes</td>\n",
       "    </tr>\n",
       "    <tr>\n",
       "      <th>4</th>\n",
       "      <td>Sam's</td>\n",
       "      <td>Breakfast</td>\n",
       "      <td>Saturday</td>\n",
       "      <td>Cheap</td>\n",
       "      <td>Yes</td>\n",
       "      <td>No</td>\n",
       "    </tr>\n",
       "  </tbody>\n",
       "</table>\n",
       "</div>"
      ],
      "text/plain": [
       "  Restaurant       Meal       Day       Cost Vegan AllergicReaction?\n",
       "0      Kim's  Breakfast  Saturday  Expensive   Yes                No\n",
       "1      Kim's      Lunch    Sunday      Cheap    No                No\n",
       "2      Sam's  Breakfast  Saturday  Expensive    No               Yes\n",
       "3      Kim's  Breakfast    Friday      Cheap   Yes               Yes\n",
       "4      Sam's  Breakfast  Saturday      Cheap   Yes                No"
      ]
     },
     "execution_count": 9,
     "metadata": {},
     "output_type": "execute_result"
    }
   ],
   "source": [
    "data.head(5)"
   ]
  },
  {
   "cell_type": "code",
   "execution_count": 10,
   "id": "20449d27",
   "metadata": {},
   "outputs": [],
   "source": [
    "from sklearn.preprocessing import LabelEncoder"
   ]
  },
  {
   "cell_type": "code",
   "execution_count": 11,
   "id": "d3e97766",
   "metadata": {},
   "outputs": [],
   "source": [
    "le=LabelEncoder()"
   ]
  },
  {
   "cell_type": "code",
   "execution_count": 14,
   "id": "fae92231",
   "metadata": {},
   "outputs": [],
   "source": [
    "data['Restaurant']=le.fit_transform(data['Restaurant'])\n",
    "data['Meal']=le.fit_transform(data['Meal'])\n",
    "data['Day']=le.fit_transform(data['Day'])\n",
    "data['Cost']=le.fit_transform(data['Cost'])\n",
    "data['Vegan']=le.fit_transform(data['Vegan'])\n",
    "data['AllergicReaction?']=le.fit_transform(data['AllergicReaction?'])\n",
    "\n",
    "\n",
    "\n",
    "\n"
   ]
  },
  {
   "cell_type": "code",
   "execution_count": 15,
   "id": "72fbe47c",
   "metadata": {},
   "outputs": [],
   "source": [
    "y=data['AllergicReaction?']\n",
    "x=data.drop(['AllergicReaction?'],axis=1)"
   ]
  },
  {
   "cell_type": "code",
   "execution_count": 16,
   "id": "d316f973",
   "metadata": {},
   "outputs": [
    {
     "data": {
      "text/html": [
       "<div>\n",
       "<style scoped>\n",
       "    .dataframe tbody tr th:only-of-type {\n",
       "        vertical-align: middle;\n",
       "    }\n",
       "\n",
       "    .dataframe tbody tr th {\n",
       "        vertical-align: top;\n",
       "    }\n",
       "\n",
       "    .dataframe thead th {\n",
       "        text-align: right;\n",
       "    }\n",
       "</style>\n",
       "<table border=\"1\" class=\"dataframe\">\n",
       "  <thead>\n",
       "    <tr style=\"text-align: right;\">\n",
       "      <th></th>\n",
       "      <th>Restaurant</th>\n",
       "      <th>Meal</th>\n",
       "      <th>Day</th>\n",
       "      <th>Cost</th>\n",
       "      <th>Vegan</th>\n",
       "    </tr>\n",
       "  </thead>\n",
       "  <tbody>\n",
       "    <tr>\n",
       "      <th>0</th>\n",
       "      <td>0</td>\n",
       "      <td>0</td>\n",
       "      <td>1</td>\n",
       "      <td>1</td>\n",
       "      <td>1</td>\n",
       "    </tr>\n",
       "    <tr>\n",
       "      <th>1</th>\n",
       "      <td>0</td>\n",
       "      <td>1</td>\n",
       "      <td>2</td>\n",
       "      <td>0</td>\n",
       "      <td>0</td>\n",
       "    </tr>\n",
       "    <tr>\n",
       "      <th>2</th>\n",
       "      <td>1</td>\n",
       "      <td>0</td>\n",
       "      <td>1</td>\n",
       "      <td>1</td>\n",
       "      <td>0</td>\n",
       "    </tr>\n",
       "    <tr>\n",
       "      <th>3</th>\n",
       "      <td>0</td>\n",
       "      <td>0</td>\n",
       "      <td>0</td>\n",
       "      <td>0</td>\n",
       "      <td>1</td>\n",
       "    </tr>\n",
       "    <tr>\n",
       "      <th>4</th>\n",
       "      <td>1</td>\n",
       "      <td>0</td>\n",
       "      <td>1</td>\n",
       "      <td>0</td>\n",
       "      <td>1</td>\n",
       "    </tr>\n",
       "    <tr>\n",
       "      <th>5</th>\n",
       "      <td>0</td>\n",
       "      <td>1</td>\n",
       "      <td>0</td>\n",
       "      <td>1</td>\n",
       "      <td>1</td>\n",
       "    </tr>\n",
       "    <tr>\n",
       "      <th>6</th>\n",
       "      <td>1</td>\n",
       "      <td>0</td>\n",
       "      <td>1</td>\n",
       "      <td>1</td>\n",
       "      <td>0</td>\n",
       "    </tr>\n",
       "    <tr>\n",
       "      <th>7</th>\n",
       "      <td>1</td>\n",
       "      <td>1</td>\n",
       "      <td>1</td>\n",
       "      <td>0</td>\n",
       "      <td>0</td>\n",
       "    </tr>\n",
       "    <tr>\n",
       "      <th>8</th>\n",
       "      <td>0</td>\n",
       "      <td>0</td>\n",
       "      <td>2</td>\n",
       "      <td>0</td>\n",
       "      <td>0</td>\n",
       "    </tr>\n",
       "    <tr>\n",
       "      <th>9</th>\n",
       "      <td>1</td>\n",
       "      <td>0</td>\n",
       "      <td>1</td>\n",
       "      <td>1</td>\n",
       "      <td>1</td>\n",
       "    </tr>\n",
       "    <tr>\n",
       "      <th>10</th>\n",
       "      <td>0</td>\n",
       "      <td>1</td>\n",
       "      <td>0</td>\n",
       "      <td>0</td>\n",
       "      <td>0</td>\n",
       "    </tr>\n",
       "    <tr>\n",
       "      <th>11</th>\n",
       "      <td>1</td>\n",
       "      <td>1</td>\n",
       "      <td>1</td>\n",
       "      <td>1</td>\n",
       "      <td>0</td>\n",
       "    </tr>\n",
       "    <tr>\n",
       "      <th>12</th>\n",
       "      <td>0</td>\n",
       "      <td>0</td>\n",
       "      <td>2</td>\n",
       "      <td>0</td>\n",
       "      <td>0</td>\n",
       "    </tr>\n",
       "  </tbody>\n",
       "</table>\n",
       "</div>"
      ],
      "text/plain": [
       "    Restaurant  Meal  Day  Cost  Vegan\n",
       "0            0     0    1     1      1\n",
       "1            0     1    2     0      0\n",
       "2            1     0    1     1      0\n",
       "3            0     0    0     0      1\n",
       "4            1     0    1     0      1\n",
       "5            0     1    0     1      1\n",
       "6            1     0    1     1      0\n",
       "7            1     1    1     0      0\n",
       "8            0     0    2     0      0\n",
       "9            1     0    1     1      1\n",
       "10           0     1    0     0      0\n",
       "11           1     1    1     1      0\n",
       "12           0     0    2     0      0"
      ]
     },
     "execution_count": 16,
     "metadata": {},
     "output_type": "execute_result"
    }
   ],
   "source": [
    "x"
   ]
  },
  {
   "cell_type": "code",
   "execution_count": 17,
   "id": "9a6e9eeb",
   "metadata": {},
   "outputs": [
    {
     "data": {
      "text/plain": [
       "0     0\n",
       "1     0\n",
       "2     1\n",
       "3     1\n",
       "4     0\n",
       "5     1\n",
       "6     0\n",
       "7     1\n",
       "8     0\n",
       "9     1\n",
       "10    0\n",
       "11    0\n",
       "12    1\n",
       "Name: AllergicReaction?, dtype: int64"
      ]
     },
     "execution_count": 17,
     "metadata": {},
     "output_type": "execute_result"
    }
   ],
   "source": [
    "y"
   ]
  },
  {
   "cell_type": "code",
   "execution_count": 18,
   "id": "7c1563e5",
   "metadata": {},
   "outputs": [],
   "source": [
    "from sklearn.model_selection import train_test_split\n",
    "x_train,x_test,y_train,y_test=train_test_split(x,y,test_size=0.5,random_state=0)"
   ]
  },
  {
   "cell_type": "code",
   "execution_count": 19,
   "id": "58c24d0b",
   "metadata": {},
   "outputs": [
    {
     "data": {
      "image/png": "[encoded data removed]",
      "text/plain": [
       "<Figure size 1000x1000 with 1 Axes>"
      ]
     },
     "metadata": {},
     "output_type": "display_data"
    }
   ],
   "source": [
    "from sklearn import tree\n",
    "clf=tree.DecisionTreeClassifier(criterion='entropy')\n",
    "clf=clf.fit(x_train,y_train)\n",
    "clf.fit(x,y)\n",
    "fig,ax=plt.subplots(figsize=(10,10))\n",
    "tree.plot_tree(clf,fontsize=10)\n",
    "plt.show()"
   ]
  },
  {
   "cell_type": "code",
   "execution_count": 20,
   "id": "15f9b7e8",
   "metadata": {},
   "outputs": [
    {
     "name": "stdout",
     "output_type": "stream",
     "text": [
      "|--- feature_2 <= 0.50\n",
      "|   |--- feature_4 <= 0.50\n",
      "|   |   |--- class: 0\n",
      "|   |--- feature_4 >  0.50\n",
      "|   |   |--- class: 1\n",
      "|--- feature_2 >  0.50\n",
      "|   |--- feature_0 <= 0.50\n",
      "|   |   |--- feature_3 <= 0.50\n",
      "|   |   |   |--- feature_1 <= 0.50\n",
      "|   |   |   |   |--- class: 0\n",
      "|   |   |   |--- feature_1 >  0.50\n",
      "|   |   |   |   |--- class: 0\n",
      "|   |   |--- feature_3 >  0.50\n",
      "|   |   |   |--- class: 0\n",
      "|   |--- feature_0 >  0.50\n",
      "|   |   |--- feature_1 <= 0.50\n",
      "|   |   |   |--- feature_3 <= 0.50\n",
      "|   |   |   |   |--- class: 0\n",
      "|   |   |   |--- feature_3 >  0.50\n",
      "|   |   |   |   |--- feature_4 <= 0.50\n",
      "|   |   |   |   |   |--- class: 0\n",
      "|   |   |   |   |--- feature_4 >  0.50\n",
      "|   |   |   |   |   |--- class: 1\n",
      "|   |   |--- feature_1 >  0.50\n",
      "|   |   |   |--- feature_3 <= 0.50\n",
      "|   |   |   |   |--- class: 1\n",
      "|   |   |   |--- feature_3 >  0.50\n",
      "|   |   |   |   |--- class: 0\n",
      "\n"
     ]
    }
   ],
   "source": [
    "print(tree.export_text(clf))"
   ]
  },
  {
   "cell_type": "code",
   "execution_count": 21,
   "id": "c21d2b0f",
   "metadata": {},
   "outputs": [],
   "source": [
    "x_pred=clf.predict(x_test)"
   ]
  },
  {
   "cell_type": "code",
   "execution_count": 24,
   "id": "73e4a4fc",
   "metadata": {},
   "outputs": [
    {
     "name": "stdout",
     "output_type": "stream",
     "text": [
      "              precision    recall  f1-score   support\n",
      "\n",
      "           0       0.00      0.00      0.00         6\n",
      "           1       0.14      1.00      0.25         1\n",
      "\n",
      "    accuracy                           0.14         7\n",
      "   macro avg       0.07      0.50      0.12         7\n",
      "weighted avg       0.02      0.14      0.04         7\n",
      "\n"
     ]
    },
    {
     "name": "stderr",
     "output_type": "stream",
     "text": [
      "/home/pllab/anaconda3/lib/python3.11/site-packages/sklearn/metrics/_classification.py:1469: UndefinedMetricWarning: Precision and F-score are ill-defined and being set to 0.0 in labels with no predicted samples. Use `zero_division` parameter to control this behavior.\n",
      "  _warn_prf(average, modifier, msg_start, len(result))\n",
      "/home/pllab/anaconda3/lib/python3.11/site-packages/sklearn/metrics/_classification.py:1469: UndefinedMetricWarning: Precision and F-score are ill-defined and being set to 0.0 in labels with no predicted samples. Use `zero_division` parameter to control this behavior.\n",
      "  _warn_prf(average, modifier, msg_start, len(result))\n",
      "/home/pllab/anaconda3/lib/python3.11/site-packages/sklearn/metrics/_classification.py:1469: UndefinedMetricWarning: Precision and F-score are ill-defined and being set to 0.0 in labels with no predicted samples. Use `zero_division` parameter to control this behavior.\n",
      "  _warn_prf(average, modifier, msg_start, len(result))\n"
     ]
    }
   ],
   "source": [
    "from id3 import Id3Estimator\n",
    "from sklearn.metrics import classification_report\n",
    "\n",
    "estimator = Id3Estimator()\n",
    "estimator.fit(x_train, y_train)\n",
    "x_pred = estimator.predict(x_test)\n",
    "print(classification_report(y_test, x_pred))\n"
   ]
  },
  {
   "cell_type": "code",
   "execution_count": 25,
   "id": "d6233c8b",
   "metadata": {},
   "outputs": [
    {
     "name": "stdout",
     "output_type": "stream",
     "text": [
      "0.14285714285714285\n"
     ]
    }
   ],
   "source": [
    "from sklearn.metrics import accuracy_score\n",
    "print(accuracy_score(y_test,x_pred))"
   ]
  },
  {
   "cell_type": "code",
   "execution_count": null,
   "id": "6dcad7a8",
   "metadata": {},
   "outputs": [],
   "source": []
  }
 ],
 "metadata": {
  "kernelspec": {
   "display_name": "Python 3 (ipykernel)",
   "language": "python",
   "name": "python3"
  },
  "language_info": {
   "codemirror_mode": {
    "name": "ipython",
    "version": 3
   },
   "file_extension": ".py",
   "mimetype": "text/x-python",
   "name": "python",
   "nbconvert_exporter": "python",
   "pygments_lexer": "ipython3",
   "version": "3.11.5"
  }
 },
 "nbformat": 4,
 "nbformat_minor": 5
}
